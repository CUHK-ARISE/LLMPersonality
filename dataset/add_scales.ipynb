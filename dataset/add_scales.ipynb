{
 "cells": [
  {
   "cell_type": "code",
   "execution_count": null,
   "metadata": {},
   "outputs": [],
   "source": [
    "# En English\n",
    "en_system_prompt = 'You are a helpful assistant.'\n",
    "en_scales = '''strongly disagree\n",
    "a little disagree\n",
    "neither agree nor disagree\n",
    "little agree\n",
    "strongly agree'''"
   ]
  },
  {
   "cell_type": "code",
   "execution_count": null,
   "metadata": {},
   "outputs": [],
   "source": [
    "# Zh Chinese\n",
    "zh_system_prompt = '你是一个有用的助手。'\n",
    "zh_scales = '''强烈反对\n",
    "有点不同意\n",
    "既不同意也不反对\n",
    "很少同意\n",
    "非常同意'''"
   ]
  },
  {
   "cell_type": "code",
   "execution_count": null,
   "metadata": {},
   "outputs": [],
   "source": [
    "# Ko Korean\n",
    "ko_system_prompt = '당신은 도움이 되는 조수입니다.'\n",
    "ko_scales = '''강하게 동의\n",
    "약간 동의하지 않는다\n",
    "동의하지도 반대하지도 않는다\n",
    "거의 동의하지 않는다\n",
    "강력히 동의한다'''"
   ]
  },
  {
   "cell_type": "code",
   "execution_count": null,
   "metadata": {},
   "outputs": [],
   "source": [
    "# Es Spanish\n",
    "es_system_prompt = 'Eres un asistente útil.'\n",
    "es_scales = '''muy en desacuerdo\n",
    "un poco en desacuerdo\n",
    "ni de acuerdo ni en desacuerdo\n",
    "poco de acuerdo\n",
    "Totalmente de acuerdo'''"
   ]
  },
  {
   "cell_type": "code",
   "execution_count": null,
   "metadata": {},
   "outputs": [],
   "source": [
    "# Fr French\n",
    "fr_system_prompt = 'Vous êtes un assistant utile.'\n",
    "fr_scales = '''fortement en désaccord\n",
    "un peu en désaccord\n",
    "Ni d'accord ni en désaccord\n",
    "peu d'accord\n",
    "tout à fait d'accord'''"
   ]
  },
  {
   "cell_type": "code",
   "execution_count": null,
   "metadata": {},
   "outputs": [],
   "source": [
    "# De Deutsch\n",
    "de_system_prompt = '''Sie sind ein hilfreicher Assistent.'''\n",
    "de_scales = '''entschieden widersprechen\n",
    "bin ein wenig anderer Meinung\n",
    "weder zustimmen noch abstreiten\n",
    "stimme kaum zu\n",
    "stimme voll und ganz zu'''"
   ]
  },
  {
   "cell_type": "code",
   "execution_count": null,
   "metadata": {},
   "outputs": [],
   "source": [
    "# It Italian\n",
    "it_system_prompt = '''Sei un assistente utile.'''\n",
    "it_scales = '''fortemente in disaccordo\n",
    "un po' in disaccordo\n",
    "Nè d'accordo né in disaccordo\n",
    "poco d'accordo\n",
    "fortemente d'accordo'''"
   ]
  },
  {
   "cell_type": "code",
   "execution_count": null,
   "metadata": {},
   "outputs": [],
   "source": [
    "# Ar Arabic\n",
    "ar_system_prompt = '''أنت مساعد مفيد.'''\n",
    "ar_scales = '''لا أوافق بشدة\n",
    "لا أتفق قليلا\n",
    "لا أوافق ولا أرفض\n",
    "أتفق قليلا\n",
    "موافق بشدة'''"
   ]
  },
  {
   "cell_type": "code",
   "execution_count": null,
   "metadata": {},
   "outputs": [],
   "source": [
    "# Ru Russian\n",
    "ru_system_prompt = '''Вы полезный помощник.'''\n",
    "ru_scales = '''категорически не согласен\n",
    "немного не согласен\n",
    "Ни согласен, ни несогласен\n",
    "немного согласен\n",
    "полностью согласен'''"
   ]
  },
  {
   "cell_type": "code",
   "execution_count": null,
   "metadata": {},
   "outputs": [],
   "source": [
    "# Ja Japanese\n",
    "ja_system_prompt = '''あなたは役に立つアシスタントです。'''\n",
    "ja_scales = '''強く同意しない\n",
    "少し同意しません\n",
    "同意も反対もしない\n",
    "少し同意\n",
    "強く同意します'''"
   ]
  },
  {
   "cell_type": "code",
   "execution_count": null,
   "metadata": {},
   "outputs": [],
   "source": [
    "import json\n",
    "\n",
    "def add_scales(language, system_prompt, scales_str):\n",
    "    with open('questionnaires.json', 'r') as f:\n",
    "        questionnaire = json.load(f)\n",
    "    \n",
    "    scales = {}\n",
    "    for i, q in enumerate(scales_str.split('\\n')):\n",
    "        scales[str(i+1)] = q\n",
    "        \n",
    "    if language not in questionnaire[\"BFI\"][\"questions\"]:\n",
    "        questionnaire[\"BFI\"][\"questions\"][language] = {}\n",
    "        \n",
    "    questionnaire[\"BFI\"][\"questions\"][language][\"system_prompt\"] = system_prompt\n",
    "    questionnaire[\"BFI\"][\"questions\"][language][\"scales\"] = scales\n",
    "    \n",
    "    with open('questionnaires.json', 'w', encoding='utf-8') as f:\n",
    "        json.dump(questionnaire, f, ensure_ascii=False, indent=4)\n"
   ]
  },
  {
   "cell_type": "code",
   "execution_count": null,
   "metadata": {},
   "outputs": [],
   "source": [
    "add_scales('en', en_system_prompt, en_scales)\n",
    "add_scales('zh', zh_system_prompt, zh_scales)\n",
    "add_scales('ko', ko_system_prompt, ko_scales)\n",
    "add_scales('es', es_system_prompt, es_scales)\n",
    "add_scales('fr', fr_system_prompt, fr_scales)\n",
    "add_scales('de', de_system_prompt, de_scales)\n",
    "add_scales('it', it_system_prompt, it_scales)\n",
    "add_scales('ar', ar_system_prompt, ar_scales)\n",
    "add_scales('ru', ru_system_prompt, ru_scales)\n",
    "add_scales('ja', ja_system_prompt, ja_scales)"
   ]
  }
 ],
 "metadata": {
  "kernelspec": {
   "display_name": "env_python",
   "language": "python",
   "name": "python3"
  },
  "language_info": {
   "codemirror_mode": {
    "name": "ipython",
    "version": 3
   },
   "file_extension": ".py",
   "mimetype": "text/x-python",
   "name": "python",
   "nbconvert_exporter": "python",
   "pygments_lexer": "ipython3",
   "version": "3.10.6"
  }
 },
 "nbformat": 4,
 "nbformat_minor": 2
}
