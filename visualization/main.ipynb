{
 "cells": [
  {
   "cell_type": "code",
   "execution_count": null,
   "metadata": {},
   "outputs": [],
   "source": [
    "import json\n",
    "import pandas as pd\n",
    "from sklearn.cluster import DBSCAN\n",
    "\n",
    "from visualize import *\n",
    "\n",
    "my_dict = {'t1': 'T1','t2': 'T2','t3': 'T3','t4': 'T4','t5': 'T5',\n",
    "           'v1': 'V1','v2': 'V2','v3': 'V3','v4': 'V4','v5': 'V5',\n",
    "           'Zh':'Zh', 'Ko':'Ko', 'Es':'Es', 'Fr':'Fr', 'De':'De',\n",
    "           'It':'It', 'Ar':'Ar', 'Ru':'Ru', 'Ja':'Ja', 'En':'En',\n",
    "           'n':'Arabic Numeral', 'al':'Lowercase Latin', 'au':'Uppercase Latin',\n",
    "           'rl':'Lowercase Roman', 'ru':'Uppercase Roman',\n",
    "           'f':'Ascending', 'r':'Descending',\n",
    "           'a person of routine and familiarity': 'Routine',\n",
    "           'a more spontaneous and less reliable person': 'Spontaneous',\n",
    "           'a person with reserved and lower energy levels': 'Reserved',\n",
    "           \"a competitive person, sometimes skeptical of others' intentions\": 'Competitive',\n",
    "           'a person with emotional stability and consistent moods': 'Stability',\n",
    "           'an adventurous and creative person': 'Adventurous',\n",
    "           'an organized person, mindful of details': 'Organized',\n",
    "           'a person full of energy and positive emotions': 'Energy',\n",
    "           'a compassionate and cooperative person': 'Compassionate',\n",
    "           'a person with emotional instability and diverse negative feelings': 'Instability',\n",
    "           }\n",
    "\n",
    "my_colors = ['#e6194B', '#42d4f4', '#ffe119', '#3cb44b', '#f032e6', '#fabed4', '#469990', '#dcbeff',\n",
    "             '#9A6324', '#fffac8', '#800000', '#aaffc3', '#000075', '#a9a9a9', '#000000']\n",
    "\n",
    "default_color = '#D9DDDC'\n"
   ]
  },
  {
   "cell_type": "code",
   "execution_count": null,
   "metadata": {},
   "outputs": [],
   "source": [
    "basis = extract_basis('basis/full.json')\n",
    "vis = Visualize('BFI', basis)\n"
   ]
  },
  {
   "cell_type": "code",
   "execution_count": null,
   "metadata": {},
   "outputs": [],
   "source": [
    "# Plot Prompt Sensitivity Results\n",
    "data, info = extract_data('save/save.json')\n",
    "\n",
    "for aspect in info:\n",
    "    for index, value in enumerate(data[aspect].unique()):\n",
    "        vis.add(data[data[aspect] == value], my_colors[index], my_dict[value])\n",
    "    vis.plot(f'bfi-{aspect}', True)\n",
    "    vis.clean()\n",
    "    "
   ]
  },
  {
   "cell_type": "code",
   "execution_count": 9,
   "metadata": {},
   "outputs": [
    {
     "name": "stdout",
     "output_type": "stream",
     "text": [
      "Number of Inliers: 2439\n",
      "Number of Outliers: 61\n",
      "2500\n",
      "Saved \"figures/outliers-0\".\n"
     ]
    },
    {
     "data": {
      "text/plain": [
       "<Figure size 640x480 with 0 Axes>"
      ]
     },
     "metadata": {},
     "output_type": "display_data"
    }
   ],
   "source": [
    "# Plot Outliers\n",
    "def detect_outlier(df, eps, min_samples):\n",
    "    pca_data = vis.pca_transform(df)\n",
    "    dbscan = DBSCAN(eps=eps, min_samples=min_samples)\n",
    "    labels = dbscan.fit_predict(pca_data)\n",
    "    print(f\"Number of Inliers: {len(labels[labels != -1])}\")\n",
    "    print(f\"Number of Outliers: {len(labels[labels == -1])}\")\n",
    "    print(f\"{len(labels[labels != -1]) + len(labels[labels == -1])}\")\n",
    "    df['Label'] = labels\n",
    "    return df\n",
    "\n",
    "test_cases = [(0.302, 20)]\n",
    "for i, (eps, min_samples) in enumerate(test_cases):\n",
    "    data_outliers = detect_outlier(data, eps, min_samples)\n",
    "    vis.add(data_outliers[data[\"Label\"] == -1], my_colors[0], 'Outliers')\n",
    "    vis.add(data_outliers[data[\"Label\"] != -1], my_colors[1], 'Inliers')\n",
    "    vis.plot(f'outliers-{i}')\n",
    "    vis.clean()\n",
    "    "
   ]
  },
  {
   "cell_type": "code",
   "execution_count": null,
   "metadata": {},
   "outputs": [],
   "source": [
    "# Plot Environment Appending Tests\n",
    "env_data, _ = extract_data('save/environment.json')\n",
    "\n",
    "with open('dataset/environment.json') as f:\n",
    "    env_conf = json.load(f)\n",
    "\n",
    "for key in env_conf:\n",
    "    vis.add(data, default_color, 'Default')\n",
    "    for index, emotion in enumerate(env_conf[key].keys()):\n",
    "        vis.add(env_data[env_data[\"append_label\"] == emotion], my_colors[index], emotion.capitalize())\n",
    "    vis.plot(f\"env-{key}\", random_zorder=True, exclude=[0])\n",
    "    vis.clean()\n",
    "    "
   ]
  },
  {
   "cell_type": "code",
   "execution_count": null,
   "metadata": {},
   "outputs": [],
   "source": [
    "# Plot Character Appending Tests\n",
    "chara_data, _ = extract_data('save/character.json')\n",
    "chara_cot_data, _ = extract_data('save/character.json')\n",
    "chara_data = pd.concat([chara_data, chara_cot_data])\n",
    "\n",
    "with open('dataset/character.json') as f:\n",
    "    chara_conf = json.load(f)\n",
    "\n",
    "for key in chara_conf:\n",
    "    vis.add(data, default_color, 'Default')\n",
    "    for index, chara in enumerate(chara_conf[key].keys()):\n",
    "        vis.add(chara_data[chara_data[\"append_label\"] == chara], my_colors[index], chara)\n",
    "    vis.plot(f\"chara-{key}\", random_zorder=True, exclude=[0])\n",
    "    vis.clean()\n",
    "    "
   ]
  },
  {
   "cell_type": "code",
   "execution_count": null,
   "metadata": {},
   "outputs": [],
   "source": [
    "# Plot Personality Tests\n",
    "personality_list = []\n",
    "for file in ['personality_portray_cot', 'personality_portray', 'personality_biography_cot',\n",
    "             'personality_biography', 'personality_qa_cot', 'personality_qa']:\n",
    "    personality_list.append(extract_data(f'save/{file}.json')[0])\n",
    "pers_data = pd.concat(personality_list)\n",
    "\n",
    "with open('dataset/personality.json') as f:\n",
    "    pers_conf = json.load(f)\n",
    "\n",
    "for key in pers_conf:\n",
    "    vis.add(data, default_color, 'Default')\n",
    "    for index, pers in enumerate(pers_conf[key].keys()):\n",
    "        vis.add(pers_data[pers_data[\"append_label\"] == pers], my_colors[index], my_dict[pers].capitalize())\n",
    "    vis.plot(f\"pers-{key}\", random_zorder=True, exclude=[0])\n",
    "    vis.clean()\n",
    "   \n",
    " \n",
    "# Plot Personalities Comparisons\n",
    "for min_label, max_label in zip(list(pers_conf[\"minimum\"].keys()), list(pers_conf[\"maximum\"].keys())):\n",
    "    vis.add(data, default_color)\n",
    "    vis.add(pers_data[pers_data[\"append_label\"] == min_label], my_colors[0], my_dict[min_label].capitalize())\n",
    "    vis.add(pers_data[pers_data[\"append_label\"] == max_label], my_colors[1], my_dict[max_label].capitalize())\n",
    "    vis.plot()\n",
    "    vis.clean()\n",
    "    "
   ]
  },
  {
   "cell_type": "code",
   "execution_count": null,
   "metadata": {},
   "outputs": [],
   "source": [
    "# Plot COT Results\n",
    "for file in ['personality_portray', 'personality_biography', 'personality_qa', 'character']:\n",
    "    cot, _ = extract_data(f'save/{file}_cot.json')\n",
    "    no_cot, _ = extract_data(f'save/{file}.json')\n",
    "    vis.add(data, default_color, 'Default')\n",
    "    vis.add(cot, my_colors[0], 'With COT')\n",
    "    vis.add(no_cot, my_colors[1], 'Without COT')\n",
    "    vis.plot(f\"cot-{file}\", random_zorder=True, exclude=[0])\n",
    "    vis.clean()\n",
    "    "
   ]
  }
 ],
 "metadata": {
  "kernelspec": {
   "display_name": "env_python",
   "language": "python",
   "name": "python3"
  },
  "language_info": {
   "codemirror_mode": {
    "name": "ipython",
    "version": 3
   },
   "file_extension": ".py",
   "mimetype": "text/x-python",
   "name": "python",
   "nbconvert_exporter": "python",
   "pygments_lexer": "ipython3",
   "version": "3.10.6"
  }
 },
 "nbformat": 4,
 "nbformat_minor": 2
}
