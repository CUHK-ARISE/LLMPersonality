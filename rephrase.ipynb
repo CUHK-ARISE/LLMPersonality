{
 "cells": [
  {
   "cell_type": "code",
   "execution_count": null,
   "metadata": {},
   "outputs": [],
   "source": [
    "from tqdm import tqdm\n",
    "from gpt_setting import *\n",
    "import json\n",
    "import utils\n",
    "\n",
    "utils.temperature = 1\n",
    "utils.delay_time = 2\n",
    "language = \"en\"\n",
    "\n",
    "def rephrase():\n",
    "    with open('dataset/questionnaires.json', 'r') as dataset:\n",
    "        data = json.load(dataset)\n",
    "    statements = data[\"BFI\"][\"questions\"][language][\"v1\"][\"statements\"].items()\n",
    "    existed_statements = [statement[1] for statement in data[\"BFI\"][\"questions\"][language].items() if statement[0].startswith('v')]\n",
    "    \n",
    "    rephrased = []\n",
    "    for count, statement in tqdm(enumerate(statements)):\n",
    "        existed_rephrased_statements = [s[\"statements\"][str(count+1)] for s in existed_statements]\n",
    "        existed_rephrased_str = '\"' + '\", \"'.join(existed_rephrased_statements) + '\"'\n",
    "        while True:\n",
    "            with open(f'prompt_template/{language}/rephrase_{language}.txt', 'r') as file:\n",
    "                _, prompt = file.read().strip().split(\"<commentblockmarker>###</commentblockmarker>\")\n",
    "            prompt = prompt.replace('!<INPUT 0>!', statement[1])\n",
    "            prompt = prompt.replace('!<INPUT 1>!', existed_rephrased_str)\n",
    "            inputs = [\n",
    "                {\"role\": \"system\", \"content\": data[\"BFI\"][\"questions\"][language][\"system_prompt\"]},\n",
    "                {\"role\": \"user\", \"content\": prompt}\n",
    "            ]\n",
    "            print(inputs)\n",
    "            try:\n",
    "                response = chat('gpt-4', inputs).strip()\n",
    "                print(response)\n",
    "                parsered_responses = json.loads(response)\n",
    "                parsered_responses = parsered_responses[\"sentence\"]\n",
    "                break\n",
    "            except:\n",
    "                pass\n",
    "        rephrased.append(parsered_responses)\n",
    "        with open('rephrased_q3.txt', 'a') as f:\n",
    "            f.write(f'{parsered_responses}\\n')\n",
    "        \n",
    "    return\n",
    "\n",
    "rephrase()\n"
   ]
  }
 ],
 "metadata": {
  "kernelspec": {
   "display_name": "env_python",
   "language": "python",
   "name": "python3"
  },
  "language_info": {
   "codemirror_mode": {
    "name": "ipython",
    "version": 3
   },
   "file_extension": ".py",
   "mimetype": "text/x-python",
   "name": "python",
   "nbconvert_exporter": "python",
   "pygments_lexer": "ipython3",
   "version": "3.10.6"
  }
 },
 "nbformat": 4,
 "nbformat_minor": 2
}
